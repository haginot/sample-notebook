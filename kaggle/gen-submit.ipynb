{
 "cells": [
  {
   "cell_type": "code",
   "execution_count": 14,
   "metadata": {
    "collapsed": true
   },
   "outputs": [],
   "source": [
    "import pyarrow.parquet as pq\n",
    "import pyarrow as pa\n",
    "import pandas as pd\n",
    "import datetime as dt\n",
    "import numpy as np"
   ]
  },
  {
   "cell_type": "code",
   "execution_count": 15,
   "metadata": {
    "collapsed": true
   },
   "outputs": [],
   "source": [
    "# The predicted period x days\n",
    "period = 3"
   ]
  },
  {
   "cell_type": "code",
   "execution_count": 16,
   "metadata": {
    "collapsed": false
   },
   "outputs": [],
   "source": [
    "air_visit_df = pd.read_csv('input/air_visit_data.csv')\n",
    "sample_submission_df = pd.read_csv('input/sample_submission.csv')"
   ]
  },
  {
   "cell_type": "code",
   "execution_count": 17,
   "metadata": {
    "collapsed": true
   },
   "outputs": [],
   "source": [
    "# Debug\n",
    "sample_submission_df = sample_submission_df[:100]"
   ]
  },
  {
   "cell_type": "code",
   "execution_count": 18,
   "metadata": {
    "collapsed": false
   },
   "outputs": [],
   "source": [
    "feature_df = sample_submission_df.copy()\n",
    "feature_df['feature1'] = pd.Series(np.random.randn(len(sample_submission_df)), index=sample_submission_df.index)\n",
    "feature_df['feature2'] = pd.Series(np.random.randn(len(sample_submission_df)), index=sample_submission_df.index)"
   ]
  },
  {
   "cell_type": "code",
   "execution_count": 19,
   "metadata": {
    "collapsed": false
   },
   "outputs": [],
   "source": [
    "def predict(*x):\n",
    "    return np.random.randn()"
   ]
  },
  {
   "cell_type": "code",
   "execution_count": 20,
   "metadata": {
    "collapsed": true
   },
   "outputs": [],
   "source": [
    "def prev_date_str(sdate, dlt=1):\n",
    "    return  dt.datetime.strftime(dt.datetime.strptime(sdate, '%Y-%m-%d') - dt.timedelta(dlt), '%Y-%m-%d')\n",
    "\n",
    "def ext_air_store_id(asidd):\n",
    "    return '_'.join(asidd.split('_')[:2])\n",
    "\n",
    "def ext_date(asidd):\n",
    "    return asidd.split('_')[-1]\n",
    "\n",
    "def air_store_id_index(df):\n",
    "    asid_df = df['id'].apply(lambda x: ext_air_store_id(x)).to_frame()\n",
    "    tdf = asid_df.groupby('id').count()\n",
    "    return tdf.index\n",
    "\n",
    "def predicted_date(df):\n",
    "    visit_date = df['id'].apply(lambda x: ext_date(x)).to_frame()\n",
    "    return (visit_date.min().get(0), visit_date.max().get(0), visit_date['id'])"
   ]
  },
  {
   "cell_type": "code",
   "execution_count": 21,
   "metadata": {
    "collapsed": false,
    "scrolled": true
   },
   "outputs": [],
   "source": [
    "first_date, last_date, predicted_dates = predicted_date(feature_df)"
   ]
  },
  {
   "cell_type": "code",
   "execution_count": 22,
   "metadata": {
    "collapsed": false
   },
   "outputs": [],
   "source": [
    "base_df = pd.DataFrame(air_store_id_index(feature_df))\n",
    "base_df.columns = ['air_store_id']"
   ]
  },
  {
   "cell_type": "code",
   "execution_count": 23,
   "metadata": {
    "collapsed": false,
    "scrolled": true
   },
   "outputs": [],
   "source": [
    "for dlt in range(period, 0, -1):\n",
    "    target_date = prev_date_str(first_date, dlt)\n",
    "    base_df = pd.merge(base_df, air_visit_df[air_visit_df['visit_date'] ==  target_date][['air_store_id', 'visitors']], how='left', on='air_store_id')\n",
    "    base_df.columns = pd.Index(np.append(base_df.columns[:-1].values, target_date))"
   ]
  },
  {
   "cell_type": "code",
   "execution_count": 24,
   "metadata": {
    "collapsed": false
   },
   "outputs": [],
   "source": [
    "for d in predicted_dates.tolist():\n",
    "    base_df[d] = pd.Series(np.nan, index=base_df.index)"
   ]
  },
  {
   "cell_type": "code",
   "execution_count": 25,
   "metadata": {
    "collapsed": false
   },
   "outputs": [],
   "source": [
    "for idx, row in feature_df.iterrows():\n",
    "    asid = ext_air_store_id(row['id'])\n",
    "    date = ext_date(row['id'])\n",
    "    tmp_df = pd.concat([row.to_frame().transpose(), base_df[base_df['air_store_id'] == asid][[prev_date_str(date, i) for i in  range(period, 0, -1)]]], axis=1)\n",
    "    predicted = predict(tmp_df.drop('id', axis=1).drop('visitors', axis=1).as_matrix())\n",
    "    base_df.loc[base_df['air_store_id'] == asid, [date]] = predicted"
   ]
  },
  {
   "cell_type": "code",
   "execution_count": 26,
   "metadata": {
    "collapsed": false,
    "scrolled": true
   },
   "outputs": [
    {
     "data": {
      "text/html": [
       "<div>\n",
       "<table border=\"1\" class=\"dataframe\">\n",
       "  <thead>\n",
       "    <tr style=\"text-align: right;\">\n",
       "      <th></th>\n",
       "      <th>air_store_id</th>\n",
       "      <th>2017-04-20</th>\n",
       "      <th>2017-04-21</th>\n",
       "      <th>2017-04-22</th>\n",
       "      <th>2017-04-23</th>\n",
       "      <th>2017-04-24</th>\n",
       "      <th>2017-04-25</th>\n",
       "      <th>2017-04-26</th>\n",
       "      <th>2017-04-27</th>\n",
       "      <th>2017-04-28</th>\n",
       "      <th>...</th>\n",
       "      <th>2017-05-22</th>\n",
       "      <th>2017-05-23</th>\n",
       "      <th>2017-05-24</th>\n",
       "      <th>2017-05-25</th>\n",
       "      <th>2017-05-26</th>\n",
       "      <th>2017-05-27</th>\n",
       "      <th>2017-05-28</th>\n",
       "      <th>2017-05-29</th>\n",
       "      <th>2017-05-30</th>\n",
       "      <th>2017-05-31</th>\n",
       "    </tr>\n",
       "  </thead>\n",
       "  <tbody>\n",
       "    <tr>\n",
       "      <th>0</th>\n",
       "      <td>air_00a91d42b08b08d9</td>\n",
       "      <td>38.0</td>\n",
       "      <td>55</td>\n",
       "      <td>18</td>\n",
       "      <td>-0.501261</td>\n",
       "      <td>0.588501</td>\n",
       "      <td>-0.669021</td>\n",
       "      <td>-1.769047</td>\n",
       "      <td>-0.950176</td>\n",
       "      <td>0.784808</td>\n",
       "      <td>...</td>\n",
       "      <td>0.627258</td>\n",
       "      <td>-0.236490</td>\n",
       "      <td>0.145755</td>\n",
       "      <td>-0.743006</td>\n",
       "      <td>0.354591</td>\n",
       "      <td>0.969835</td>\n",
       "      <td>-0.942242</td>\n",
       "      <td>0.146236</td>\n",
       "      <td>1.822236</td>\n",
       "      <td>-0.297505</td>\n",
       "    </tr>\n",
       "    <tr>\n",
       "      <th>1</th>\n",
       "      <td>air_0164b9927d20bcc3</td>\n",
       "      <td>1.0</td>\n",
       "      <td>26</td>\n",
       "      <td>6</td>\n",
       "      <td>-0.599731</td>\n",
       "      <td>-1.743496</td>\n",
       "      <td>-0.436793</td>\n",
       "      <td>0.341204</td>\n",
       "      <td>-1.639602</td>\n",
       "      <td>1.270212</td>\n",
       "      <td>...</td>\n",
       "      <td>-0.205896</td>\n",
       "      <td>0.474736</td>\n",
       "      <td>0.069402</td>\n",
       "      <td>0.454990</td>\n",
       "      <td>-0.070340</td>\n",
       "      <td>-0.284013</td>\n",
       "      <td>-1.421816</td>\n",
       "      <td>-0.879715</td>\n",
       "      <td>0.642331</td>\n",
       "      <td>-1.554984</td>\n",
       "    </tr>\n",
       "    <tr>\n",
       "      <th>2</th>\n",
       "      <td>air_0241aa3964b7f861</td>\n",
       "      <td>NaN</td>\n",
       "      <td>3</td>\n",
       "      <td>13</td>\n",
       "      <td>-0.453693</td>\n",
       "      <td>-0.860413</td>\n",
       "      <td>-0.462592</td>\n",
       "      <td>0.109374</td>\n",
       "      <td>-0.101202</td>\n",
       "      <td>0.225073</td>\n",
       "      <td>...</td>\n",
       "      <td>NaN</td>\n",
       "      <td>NaN</td>\n",
       "      <td>NaN</td>\n",
       "      <td>NaN</td>\n",
       "      <td>NaN</td>\n",
       "      <td>NaN</td>\n",
       "      <td>NaN</td>\n",
       "      <td>NaN</td>\n",
       "      <td>NaN</td>\n",
       "      <td>NaN</td>\n",
       "    </tr>\n",
       "  </tbody>\n",
       "</table>\n",
       "<p>3 rows × 43 columns</p>\n",
       "</div>"
      ],
      "text/plain": [
       "           air_store_id  2017-04-20  2017-04-21  2017-04-22  2017-04-23  \\\n",
       "0  air_00a91d42b08b08d9        38.0          55          18   -0.501261   \n",
       "1  air_0164b9927d20bcc3         1.0          26           6   -0.599731   \n",
       "2  air_0241aa3964b7f861         NaN           3          13   -0.453693   \n",
       "\n",
       "   2017-04-24  2017-04-25  2017-04-26  2017-04-27  2017-04-28     ...      \\\n",
       "0    0.588501   -0.669021   -1.769047   -0.950176    0.784808     ...       \n",
       "1   -1.743496   -0.436793    0.341204   -1.639602    1.270212     ...       \n",
       "2   -0.860413   -0.462592    0.109374   -0.101202    0.225073     ...       \n",
       "\n",
       "   2017-05-22  2017-05-23  2017-05-24  2017-05-25  2017-05-26  2017-05-27  \\\n",
       "0    0.627258   -0.236490    0.145755   -0.743006    0.354591    0.969835   \n",
       "1   -0.205896    0.474736    0.069402    0.454990   -0.070340   -0.284013   \n",
       "2         NaN         NaN         NaN         NaN         NaN         NaN   \n",
       "\n",
       "   2017-05-28  2017-05-29  2017-05-30  2017-05-31  \n",
       "0   -0.942242    0.146236    1.822236   -0.297505  \n",
       "1   -1.421816   -0.879715    0.642331   -1.554984  \n",
       "2         NaN         NaN         NaN         NaN  \n",
       "\n",
       "[3 rows x 43 columns]"
      ]
     },
     "execution_count": 26,
     "metadata": {},
     "output_type": "execute_result"
    }
   ],
   "source": [
    "base_df"
   ]
  },
  {
   "cell_type": "code",
   "execution_count": null,
   "metadata": {
    "collapsed": true
   },
   "outputs": [],
   "source": []
  }
 ],
 "metadata": {
  "kernelspec": {
   "display_name": "Python 3",
   "language": "python",
   "name": "python3"
  },
  "language_info": {
   "codemirror_mode": {
    "name": "ipython",
    "version": 3
   },
   "file_extension": ".py",
   "mimetype": "text/x-python",
   "name": "python",
   "nbconvert_exporter": "python",
   "pygments_lexer": "ipython3",
   "version": "3.6.0"
  }
 },
 "nbformat": 4,
 "nbformat_minor": 2
}
