{
 "cells": [
  {
   "cell_type": "markdown",
   "metadata": {},
   "source": [
    "## Sampleの Dockerfile をつくります"
   ]
  },
  {
   "cell_type": "markdown",
   "metadata": {},
   "source": [
    "## ClowdWatchでスケジュールされたLambdaの作成"
   ]
  },
  {
   "cell_type": "markdown",
   "metadata": {},
   "source": [
    "- 適当に関数を作ります（Hello World）\n",
    "\n",
    "### 以下疑問\n",
    "\n",
    "- 特定のLambdaへのアクセス権（CloudWatchとかS3とか）をつけるには\n",
    "- CloudWatch側の情報をLambdaに設定する必要がある\n",
    "\n",
    "- CloudWatchはデフォルトで連携してるぽい\n",
    "- デザイナーを見ると\n",
    "    - トリガーと、関数がアクセスできるリソースが表示してある\n",
    "    - トリガーの設定（CloudWatch Event） ここから作成する？\n",
    "        - EventPattern\n",
    "            - AutoScaling, EC2, Health, RDS, S3\n",
    "    - CloudWatchを見てみる\n",
    "        - LogGroupは自動生成されている\n",
    "        - Event > Ruleも生成されている\n",
    "            - RuleでのEventからメッセージを送ることは可能なのだろうか"
   ]
  },
  {
   "cell_type": "markdown",
   "metadata": {},
   "source": [
    "- AWS::Lambda::Permission\n",
    "    - lambda:InvokeFunction を設定"
   ]
  },
  {
   "cell_type": "markdown",
   "metadata": {},
   "source": [
    "## LambdaでAutoScalingを通して、インスタンスを機動する"
   ]
  },
  {
   "cell_type": "markdown",
   "metadata": {},
   "source": [
    "* 適当にインスタンスを立てます\n",
    "* 適当にオートスケーリングの設定をします\n",
    "* Lambdaからオートスケーリングの値を書き換えます"
   ]
  },
  {
   "cell_type": "markdown",
   "metadata": {},
   "source": [
    "```python\n",
    "response = client.update_auto_scaling_group(\n",
    ")\n",
    "response = client.update_auto_scaling_group(\n",
    "    AutoScalingGroupName=group_name,\n",
    "    MinSize=1,\n",
    "    MaxSize=1,\n",
    "    DesiredCapacity=1\n",
    ")\n",
    "logger.info(\"Started Train Cluster: %s\" % str(response))\n",
    "```"
   ]
  },
  {
   "cell_type": "markdown",
   "metadata": {},
   "source": [
    "## CloudWatchからAutoScalingのステータス変更をキャッチしてイベントをコール"
   ]
  },
  {
   "cell_type": "markdown",
   "metadata": {},
   "source": [
    "- CloudWatchを経由してAutoScalingのイベントが送られてくる…?\n",
    "- LambdaからTaskをスタートする\n",
    "\n",
    "```python\n",
    "if \"action\" in event:\n",
    "    action = event[\"action\"]\n",
    "# こういう設定ができるのか…\n",
    "elif event.get(\"source\") == \"aws.autoscaling\" \n",
    "  and event.get(\"detail-type\") == \"EC2 Instance Launch Successful\" and event.get(\"detail\") is not None:\n",
    "    detail_dict = event.get(\"detail\")\n",
    "    if detail_dict.get(\"AutoScalingGroupName\") == group_name:\n",
    "        action = \"start\"\n",
    "```"
   ]
  },
  {
   "cell_type": "markdown",
   "metadata": {},
   "source": [
    "## Lambdaからタスクを開始する"
   ]
  },
  {
   "cell_type": "markdown",
   "metadata": {},
   "source": [
    "```python\n",
    "response = client.run_task(\n",
    "    cluster=\"${ClusterArn}\",\n",
    "    taskDefinition=\"${EnvironmentName}-hso-train-taskdef\",\n",
    "    count=1\n",
    ")\n",
    "logger.info(\"Started ECS Task: %s\" % str(response))\n",
    "```"
   ]
  },
  {
   "cell_type": "markdown",
   "metadata": {},
   "source": [
    "## CloudWatchでESCのタスクの終了・エラーを取得する"
   ]
  },
  {
   "cell_type": "code",
   "execution_count": null,
   "metadata": {
    "collapsed": true
   },
   "outputs": [],
   "source": []
  }
 ],
 "metadata": {
  "kernelspec": {
   "display_name": "Python 3",
   "language": "python",
   "name": "python3"
  },
  "language_info": {
   "codemirror_mode": {
    "name": "ipython",
    "version": 3
   },
   "file_extension": ".py",
   "mimetype": "text/x-python",
   "name": "python",
   "nbconvert_exporter": "python",
   "pygments_lexer": "ipython3",
   "version": "3.6.0"
  }
 },
 "nbformat": 4,
 "nbformat_minor": 2
}
